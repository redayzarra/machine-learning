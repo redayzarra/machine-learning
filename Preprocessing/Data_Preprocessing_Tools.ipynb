{
  "cells": [
    {
      "cell_type": "markdown",
      "metadata": {
        "id": "37puETfgRzzg"
      },
      "source": [
        "# Data Preprocessing Tools"
      ]
    },
    {
      "cell_type": "markdown",
      "metadata": {
        "id": "EoRP98MpR-qj"
      },
      "source": [
        "## Importing the libraries"
      ]
    },
    {
      "cell_type": "code",
      "execution_count": 34,
      "metadata": {
        "id": "NejVGKytAGrB"
      },
      "outputs": [],
      "source": [
        "import numpy as np\n",
        "import matplotlib.pyplot as plt\n",
        "import pandas as pd"
<<<<<<< HEAD
      ]
=======
      ],
      "metadata": {
        "id": "NejVGKytAGrB"
      },
      "execution_count": 34,
      "outputs": []
>>>>>>> 5a3a9336ef65f35beb8e067001e7efd191ebd338
    },
    {
      "cell_type": "markdown",
      "metadata": {
        "id": "RopL7tUZSQkT"
      },
      "source": [
        "## Importing the dataset"
      ]
    },
    {
      "cell_type": "code",
<<<<<<< HEAD
      "execution_count": 35,
      "metadata": {
        "id": "IKCgpK5MCtfw"
      },
      "outputs": [],
      "source": [
        "dataset = pd.read_csv('Data.csv')\n",
        "X = dataset.iloc[: , :-1].values\n",
        "Y = dataset.iloc[: , -1].values"
      ]
    },
    {
      "cell_type": "code",
      "execution_count": 36,
=======
      "source": [
        "dataset = pd.read_csv('Data.csv')\n",
        "X = dataset.iloc[: , :-1].values\n",
        "Y = dataset.iloc[: , -1].values"
      ],
      "metadata": {
        "id": "IKCgpK5MCtfw"
      },
      "execution_count": 35,
      "outputs": []
    },
    {
      "cell_type": "code",
      "source": [
        "print(X)"
      ],
>>>>>>> 5a3a9336ef65f35beb8e067001e7efd191ebd338
      "metadata": {
        "colab": {
          "base_uri": "https://localhost:8080/"
        },
        "id": "n1kkCkr5JCkJ",
        "outputId": "80564554-fdcd-4006-c4ea-469e0ff78393"
      },
<<<<<<< HEAD
=======
      "execution_count": 36,
>>>>>>> 5a3a9336ef65f35beb8e067001e7efd191ebd338
      "outputs": [
        {
          "name": "stdout",
          "output_type": "stream",
          "text": [
            "[['France' 44.0 72000.0]\n",
            " ['Spain' 27.0 48000.0]\n",
            " ['Germany' 30.0 54000.0]\n",
            " ['Spain' 38.0 61000.0]\n",
            " ['Germany' 40.0 nan]\n",
            " ['France' 35.0 58000.0]\n",
            " ['Spain' nan 52000.0]\n",
            " ['France' 48.0 79000.0]\n",
            " ['Germany' 50.0 83000.0]\n",
            " ['France' 37.0 67000.0]]\n"
          ]
        }
      ],
      "source": [
        "print(X)"
      ]
    },
    {
      "cell_type": "code",
<<<<<<< HEAD
      "execution_count": 37,
=======
      "source": [
        "print(Y)"
      ],
>>>>>>> 5a3a9336ef65f35beb8e067001e7efd191ebd338
      "metadata": {
        "colab": {
          "base_uri": "https://localhost:8080/"
        },
        "id": "TtARii5BJEKB",
        "outputId": "670052ed-237d-4692-b5a3-37fb8739e642"
      },
<<<<<<< HEAD
=======
      "execution_count": 37,
>>>>>>> 5a3a9336ef65f35beb8e067001e7efd191ebd338
      "outputs": [
        {
          "name": "stdout",
          "output_type": "stream",
          "text": [
            "['No' 'Yes' 'No' 'No' 'Yes' 'Yes' 'No' 'Yes' 'No' 'Yes']\n"
          ]
        }
      ],
      "source": [
        "print(Y)"
      ]
    },
    {
      "cell_type": "markdown",
      "metadata": {
        "id": "nhfKXNxlSabC"
      },
      "source": [
        "## Taking care of missing data"
      ]
    },
    {
      "cell_type": "code",
<<<<<<< HEAD
      "execution_count": 38,
      "metadata": {
        "id": "6MQwsQkLWtvA"
      },
      "outputs": [],
=======
>>>>>>> 5a3a9336ef65f35beb8e067001e7efd191ebd338
      "source": [
        "from sklearn.impute import SimpleImputer\n",
        "imputer = SimpleImputer(missing_values = np.nan, strategy = 'mean')\n",
        "\n",
        "imputer.fit(X[: , 1:3])\n",
        "X[: , 1:3] = imputer.transform(X[: , 1:3])"
<<<<<<< HEAD
      ]
    },
    {
      "cell_type": "code",
      "execution_count": 39,
=======
      ],
      "metadata": {
        "id": "6MQwsQkLWtvA"
      },
      "execution_count": 38,
      "outputs": []
    },
    {
      "cell_type": "code",
      "source": [
        "print(X)"
      ],
>>>>>>> 5a3a9336ef65f35beb8e067001e7efd191ebd338
      "metadata": {
        "colab": {
          "base_uri": "https://localhost:8080/"
        },
        "id": "J_mA3l3nf2xI",
        "outputId": "df260753-5363-4763-f1bd-6dc8a459f434"
      },
<<<<<<< HEAD
      "outputs": [
        {
          "name": "stdout",
          "output_type": "stream",
=======
      "execution_count": 39,
      "outputs": [
        {
          "output_type": "stream",
          "name": "stdout",
>>>>>>> 5a3a9336ef65f35beb8e067001e7efd191ebd338
          "text": [
            "[['France' 44.0 72000.0]\n",
            " ['Spain' 27.0 48000.0]\n",
            " ['Germany' 30.0 54000.0]\n",
            " ['Spain' 38.0 61000.0]\n",
            " ['Germany' 40.0 63777.77777777778]\n",
            " ['France' 35.0 58000.0]\n",
            " ['Spain' 38.77777777777778 52000.0]\n",
            " ['France' 48.0 79000.0]\n",
            " ['Germany' 50.0 83000.0]\n",
            " ['France' 37.0 67000.0]]\n"
          ]
        }
<<<<<<< HEAD
      ],
      "source": [
        "print(X)"
=======
>>>>>>> 5a3a9336ef65f35beb8e067001e7efd191ebd338
      ]
    },
    {
      "cell_type": "markdown",
      "metadata": {
        "id": "CriG6VzVSjcK"
      },
      "source": [
        "## Encoding categorical data"
      ]
    },
    {
      "cell_type": "markdown",
      "source": [],
      "metadata": {
        "id": "MhsKazumKixx"
      }
    },
    {
      "cell_type": "markdown",
      "metadata": {
        "id": "MhsKazumKixx"
      },
      "source": []
    },
    {
      "cell_type": "markdown",
      "metadata": {
        "id": "AhSpdQWeSsFh"
      },
      "source": [
        "### Encoding the Independent Variable"
      ]
    },
    {
      "cell_type": "code",
<<<<<<< HEAD
      "execution_count": 40,
      "metadata": {
        "id": "JBExitzk4BNA"
      },
      "outputs": [],
      "source": [
        "from sklearn.compose import ColumnTransformer\n",
        "from sklearn.preprocessing import OneHotEncoder"
      ]
    },
    {
      "cell_type": "code",
      "execution_count": 41,
      "metadata": {
        "id": "r8t6CLAt8HVB"
      },
      "outputs": [],
      "source": [
        "ct = ColumnTransformer(transformers = [('encoder', OneHotEncoder(), [0])], remainder = 'passthrough')\n",
        "X = np.array(ct.fit_transform(X))"
      ]
    },
    {
      "cell_type": "code",
      "execution_count": 42,
=======
      "source": [
        "from sklearn.compose import ColumnTransformer\n",
        "from sklearn.preprocessing import OneHotEncoder"
      ],
      "metadata": {
        "id": "JBExitzk4BNA"
      },
      "execution_count": 40,
      "outputs": []
    },
    {
      "cell_type": "code",
      "source": [
        "ct = ColumnTransformer(transformers = [('encoder', OneHotEncoder(), [0])], remainder = 'passthrough')\n",
        "X = np.array(ct.fit_transform(X))"
      ],
      "metadata": {
        "id": "r8t6CLAt8HVB"
      },
      "execution_count": 41,
      "outputs": []
    },
    {
      "cell_type": "code",
      "source": [
        "print(X)"
      ],
>>>>>>> 5a3a9336ef65f35beb8e067001e7efd191ebd338
      "metadata": {
        "colab": {
          "base_uri": "https://localhost:8080/"
        },
        "id": "byFLqVrZ9Gdo",
        "outputId": "21d38138-7bc7-4e52-8177-7ab3d857701d"
      },
<<<<<<< HEAD
      "outputs": [
        {
          "name": "stdout",
          "output_type": "stream",
=======
      "execution_count": 42,
      "outputs": [
        {
          "output_type": "stream",
          "name": "stdout",
>>>>>>> 5a3a9336ef65f35beb8e067001e7efd191ebd338
          "text": [
            "[[1.0 0.0 0.0 44.0 72000.0]\n",
            " [0.0 0.0 1.0 27.0 48000.0]\n",
            " [0.0 1.0 0.0 30.0 54000.0]\n",
            " [0.0 0.0 1.0 38.0 61000.0]\n",
            " [0.0 1.0 0.0 40.0 63777.77777777778]\n",
            " [1.0 0.0 0.0 35.0 58000.0]\n",
            " [0.0 0.0 1.0 38.77777777777778 52000.0]\n",
            " [1.0 0.0 0.0 48.0 79000.0]\n",
            " [0.0 1.0 0.0 50.0 83000.0]\n",
            " [1.0 0.0 0.0 37.0 67000.0]]\n"
          ]
        }
<<<<<<< HEAD
      ],
      "source": [
        "print(X)"
=======
>>>>>>> 5a3a9336ef65f35beb8e067001e7efd191ebd338
      ]
    },
    {
      "cell_type": "markdown",
      "metadata": {
        "id": "DXh8oVSITIc6"
      },
      "source": [
        "### Encoding the Dependent Variable"
      ]
    },
    {
      "cell_type": "code",
<<<<<<< HEAD
      "execution_count": 43,
      "metadata": {
        "id": "DTIp9zVTKlF5"
      },
      "outputs": [],
      "source": [
        "from sklearn.preprocessing import LabelEncoder"
      ]
    },
    {
      "cell_type": "code",
      "execution_count": 44,
      "metadata": {
        "id": "eemCzym2Kqb5"
      },
      "outputs": [],
      "source": [
        "le = LabelEncoder()\n",
        "Y = le.fit_transform(Y)"
      ]
    },
    {
      "cell_type": "code",
      "execution_count": 45,
=======
      "source": [
        "from sklearn.preprocessing import LabelEncoder"
      ],
      "metadata": {
        "id": "DTIp9zVTKlF5"
      },
      "execution_count": 43,
      "outputs": []
    },
    {
      "cell_type": "code",
      "source": [
        "le = LabelEncoder()\n",
        "Y = le.fit_transform(Y)"
      ],
      "metadata": {
        "id": "eemCzym2Kqb5"
      },
      "execution_count": 44,
      "outputs": []
    },
    {
      "cell_type": "code",
      "source": [
        "print(Y)"
      ],
>>>>>>> 5a3a9336ef65f35beb8e067001e7efd191ebd338
      "metadata": {
        "colab": {
          "base_uri": "https://localhost:8080/"
        },
        "id": "Udz7hbeJLv8S",
        "outputId": "7064d3b2-a7c4-4efb-a353-94163124a590"
      },
<<<<<<< HEAD
      "outputs": [
        {
          "name": "stdout",
          "output_type": "stream",
=======
      "execution_count": 45,
      "outputs": [
        {
          "output_type": "stream",
          "name": "stdout",
>>>>>>> 5a3a9336ef65f35beb8e067001e7efd191ebd338
          "text": [
            "[0 1 0 0 1 1 0 1 0 1]\n"
          ]
        }
<<<<<<< HEAD
      ],
      "source": [
        "print(Y)"
=======
>>>>>>> 5a3a9336ef65f35beb8e067001e7efd191ebd338
      ]
    },
    {
      "cell_type": "markdown",
      "metadata": {
        "id": "qb_vcgm3qZKW"
      },
      "source": [
        "## Splitting the dataset into the Training set and Test set"
      ]
    },
    {
      "cell_type": "code",
<<<<<<< HEAD
      "execution_count": 46,
      "metadata": {
        "id": "tp3kxsP-QPEd"
      },
      "outputs": [],
      "source": [
        "from sklearn.model_selection import train_test_split"
      ]
    },
    {
      "cell_type": "code",
      "execution_count": 47,
      "metadata": {
        "id": "t5iDk-JnWuqR"
      },
      "outputs": [],
      "source": [
        "X_train, X_test, Y_train, Y_test = train_test_split(X, Y, test_size = 0.2, random_state = 1)"
      ]
    },
    {
      "cell_type": "code",
      "execution_count": 48,
=======
      "source": [
        "from sklearn.model_selection import train_test_split"
      ],
      "metadata": {
        "id": "tp3kxsP-QPEd"
      },
      "execution_count": 46,
      "outputs": []
    },
    {
      "cell_type": "code",
      "source": [
        "X_train, X_test, Y_train, Y_test = train_test_split(X, Y, test_size = 0.2, random_state = 1)"
      ],
      "metadata": {
        "id": "t5iDk-JnWuqR"
      },
      "execution_count": 47,
      "outputs": []
    },
    {
      "cell_type": "code",
      "source": [
        "print(X_test)"
      ],
>>>>>>> 5a3a9336ef65f35beb8e067001e7efd191ebd338
      "metadata": {
        "colab": {
          "base_uri": "https://localhost:8080/"
        },
        "id": "qiMf6AKZW91u",
        "outputId": "aea6455f-c590-4047-ad9f-d954b249680b"
      },
<<<<<<< HEAD
      "outputs": [
        {
          "name": "stdout",
          "output_type": "stream",
=======
      "execution_count": 48,
      "outputs": [
        {
          "output_type": "stream",
          "name": "stdout",
>>>>>>> 5a3a9336ef65f35beb8e067001e7efd191ebd338
          "text": [
            "[[0.0 1.0 0.0 30.0 54000.0]\n",
            " [1.0 0.0 0.0 37.0 67000.0]]\n"
          ]
        }
<<<<<<< HEAD
      ],
      "source": [
        "print(X_test)"
=======
>>>>>>> 5a3a9336ef65f35beb8e067001e7efd191ebd338
      ]
    },
    {
      "cell_type": "code",
<<<<<<< HEAD
      "execution_count": 49,
=======
      "source": [
        "print(X_train)"
      ],
>>>>>>> 5a3a9336ef65f35beb8e067001e7efd191ebd338
      "metadata": {
        "colab": {
          "base_uri": "https://localhost:8080/"
        },
        "id": "7Lx9bgdGW97K",
        "outputId": "4ba5468a-2145-470d-abc2-3a3b8e8e9b4e"
      },
<<<<<<< HEAD
      "outputs": [
        {
          "name": "stdout",
          "output_type": "stream",
=======
      "execution_count": 49,
      "outputs": [
        {
          "output_type": "stream",
          "name": "stdout",
>>>>>>> 5a3a9336ef65f35beb8e067001e7efd191ebd338
          "text": [
            "[[0.0 0.0 1.0 38.77777777777778 52000.0]\n",
            " [0.0 1.0 0.0 40.0 63777.77777777778]\n",
            " [1.0 0.0 0.0 44.0 72000.0]\n",
            " [0.0 0.0 1.0 38.0 61000.0]\n",
            " [0.0 0.0 1.0 27.0 48000.0]\n",
            " [1.0 0.0 0.0 48.0 79000.0]\n",
            " [0.0 1.0 0.0 50.0 83000.0]\n",
            " [1.0 0.0 0.0 35.0 58000.0]]\n"
          ]
        }
<<<<<<< HEAD
      ],
      "source": [
        "print(X_train)"
=======
>>>>>>> 5a3a9336ef65f35beb8e067001e7efd191ebd338
      ]
    },
    {
      "cell_type": "code",
<<<<<<< HEAD
      "execution_count": 50,
=======
      "source": [
        "print(Y_test)"
      ],
>>>>>>> 5a3a9336ef65f35beb8e067001e7efd191ebd338
      "metadata": {
        "colab": {
          "base_uri": "https://localhost:8080/"
        },
        "id": "jUeDkgDwW-B9",
        "outputId": "1f55a45a-a80d-4e0b-ee43-70d774859110"
      },
<<<<<<< HEAD
      "outputs": [
        {
          "name": "stdout",
          "output_type": "stream",
=======
      "execution_count": 50,
      "outputs": [
        {
          "output_type": "stream",
          "name": "stdout",
>>>>>>> 5a3a9336ef65f35beb8e067001e7efd191ebd338
          "text": [
            "[0 1]\n"
          ]
        }
<<<<<<< HEAD
      ],
      "source": [
        "print(Y_test)"
=======
>>>>>>> 5a3a9336ef65f35beb8e067001e7efd191ebd338
      ]
    },
    {
      "cell_type": "code",
<<<<<<< HEAD
      "execution_count": 51,
=======
      "source": [
        "print(Y_train)"
      ],
>>>>>>> 5a3a9336ef65f35beb8e067001e7efd191ebd338
      "metadata": {
        "colab": {
          "base_uri": "https://localhost:8080/"
        },
        "id": "hFujB23DW-IV",
        "outputId": "c24b8662-8917-4218-ed9d-f2e88a742f7b"
      },
<<<<<<< HEAD
      "outputs": [
        {
          "name": "stdout",
          "output_type": "stream",
=======
      "execution_count": 51,
      "outputs": [
        {
          "output_type": "stream",
          "name": "stdout",
>>>>>>> 5a3a9336ef65f35beb8e067001e7efd191ebd338
          "text": [
            "[0 1 0 0 1 1 0 1]\n"
          ]
        }
<<<<<<< HEAD
      ],
      "source": [
        "print(Y_train)"
=======
>>>>>>> 5a3a9336ef65f35beb8e067001e7efd191ebd338
      ]
    },
    {
      "cell_type": "markdown",
      "metadata": {
        "id": "TpGqbS4TqkIR"
      },
      "source": [
        "## Feature Scaling"
      ]
    },
    {
      "cell_type": "code",
<<<<<<< HEAD
      "execution_count": 52,
      "metadata": {
        "id": "OYBQPIn4tGg0"
      },
      "outputs": [],
      "source": [
        "from sklearn.preprocessing import StandardScaler"
      ]
    },
    {
      "cell_type": "code",
      "execution_count": 53,
      "metadata": {
        "id": "gLesDYbqtKB-"
      },
      "outputs": [],
=======
      "source": [
        "from sklearn.preprocessing import StandardScaler"
      ],
      "metadata": {
        "id": "OYBQPIn4tGg0"
      },
      "execution_count": 52,
      "outputs": []
    },
    {
      "cell_type": "code",
>>>>>>> 5a3a9336ef65f35beb8e067001e7efd191ebd338
      "source": [
        "sc = StandardScaler()\n",
        "X_train[: , 3:] = sc.fit_transform(X_train[: , 3:])\n",
        "X_test[: , 3:] = sc.transform(X_test[: , 3:])"
<<<<<<< HEAD
      ]
    },
    {
      "cell_type": "code",
      "execution_count": 54,
=======
      ],
      "metadata": {
        "id": "gLesDYbqtKB-"
      },
      "execution_count": 53,
      "outputs": []
    },
    {
      "cell_type": "code",
      "source": [
        "print(X_test)"
      ],
>>>>>>> 5a3a9336ef65f35beb8e067001e7efd191ebd338
      "metadata": {
        "colab": {
          "base_uri": "https://localhost:8080/"
        },
        "id": "Admdn5XPtdXN",
        "outputId": "86dd2891-77c6-4003-c026-f5e8b6983020"
      },
<<<<<<< HEAD
      "outputs": [
        {
          "name": "stdout",
          "output_type": "stream",
=======
      "execution_count": 54,
      "outputs": [
        {
          "output_type": "stream",
          "name": "stdout",
>>>>>>> 5a3a9336ef65f35beb8e067001e7efd191ebd338
          "text": [
            "[[0.0 1.0 0.0 -1.4661817944830124 -0.9069571034860727]\n",
            " [1.0 0.0 0.0 -0.44973664397484414 0.2056403393225306]]\n"
          ]
        }
<<<<<<< HEAD
      ],
      "source": [
        "print(X_test)"
=======
>>>>>>> 5a3a9336ef65f35beb8e067001e7efd191ebd338
      ]
    },
    {
      "cell_type": "code",
<<<<<<< HEAD
      "execution_count": 55,
=======
      "source": [
        "print(X_train)"
      ],
>>>>>>> 5a3a9336ef65f35beb8e067001e7efd191ebd338
      "metadata": {
        "colab": {
          "base_uri": "https://localhost:8080/"
        },
        "id": "WyXkrt_Vtdd2",
        "outputId": "511aff29-c115-4e6a-c97c-b1932fa63b17"
      },
<<<<<<< HEAD
      "outputs": [
        {
          "name": "stdout",
          "output_type": "stream",
=======
      "execution_count": 55,
      "outputs": [
        {
          "output_type": "stream",
          "name": "stdout",
>>>>>>> 5a3a9336ef65f35beb8e067001e7efd191ebd338
          "text": [
            "[[0.0 0.0 1.0 -0.19159184384578545 -1.0781259408412425]\n",
            " [0.0 1.0 0.0 -0.014117293757057777 -0.07013167641635372]\n",
            " [1.0 0.0 0.0 0.566708506533324 0.633562432710455]\n",
            " [0.0 0.0 1.0 -0.30453019390224867 -0.30786617274297867]\n",
            " [0.0 0.0 1.0 -1.9018011447007988 -1.420463615551582]\n",
            " [1.0 0.0 0.0 1.1475343068237058 1.232653363453549]\n",
            " [0.0 1.0 0.0 1.4379472069688968 1.5749910381638885]\n",
            " [1.0 0.0 0.0 -0.7401495441200351 -0.5646194287757332]]\n"
          ]
        }
<<<<<<< HEAD
      ],
      "source": [
        "print(X_train)"
=======
>>>>>>> 5a3a9336ef65f35beb8e067001e7efd191ebd338
      ]
    }
  ],
  "metadata": {
    "colab": {
      "provenance": []
    },
    "kernelspec": {
      "display_name": "Python 3.11.1 64-bit",
      "language": "python",
      "name": "python3"
    },
    "language_info": {
      "name": "python",
      "version": "3.11.1"
    },
    "vscode": {
      "interpreter": {
        "hash": "c261aea317cc0286b3b3261fbba9abdec21eaa57589985bb7a274bf54d6cc0a7"
      }
    }
  },
  "nbformat": 4,
  "nbformat_minor": 0
}

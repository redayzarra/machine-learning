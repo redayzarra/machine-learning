{
  "cells": [
    {
      "cell_type": "markdown",
      "metadata": {
        "id": "l_LulNCC8z96"
      },
      "source": [
        "# Simple Linear Regression"
      ]
    },
    {
      "cell_type": "markdown",
      "metadata": {
        "id": "nIUBM9IcYHlR"
      },
      "source": [
        "Simple Linear Regression utilizes this linear equation: y = b0 + b1*x1 - where y\n",
        "is the dependent variable (what we want to predict), and x1 is the independent\n",
        "variable or feature, b0 is the y-intercept or a constant, and finally b1 is the\n",
        "slope coefficient. Regression is when you want to predict a real value.\n",
        "\n",
        "For example, predicting the output of potatoes from the amount of fertilizer a\n",
        "farmer chooses to use. The amount of fertilizer is the independent variable or \n",
        "the feature (x1), while the dependent variable is the output of potatoes (y).\n",
        "This would make the equation look like: Potatoes = b0 + b1*Fertilizer for our\n",
        "linear regression model.\n",
        "\n",
        "Ordinary Least Squares is a technique used to find the best regression line\n",
        "through simple linear regression models. It works by finding the vertical \n",
        "distance from every data point(yi) to the regression line (ŷi). The difference\n",
        "between these two (vertical distance between them) is called the residual: \n",
        "ε1 = yi - ŷi this can be used to find the best regression line. Using the linear\n",
        "equation, we want to manipulate b0 and b1 in a way that the the SUM of the \n",
        "square of the residuals is as small as possible or SUM(yi - ŷi)^2 is smallest."
      ]
    },
    {
      "cell_type": "markdown",
      "metadata": {
        "id": "xpXdowrE9DxW"
      },
      "source": [
        "## Importing the libraries"
      ]
    },
    {
      "cell_type": "code",
      "execution_count": 172,
      "metadata": {
        "id": "AsckYcDeYlGp"
      },
      "outputs": [],
      "source": [
        "import numpy as np\n",
        "import matplotlib.pyplot as plt\n",
        "import pandas as pd"
      ]
    },
    {
      "cell_type": "markdown",
      "metadata": {
        "id": "6JhpWJi59J1p"
      },
      "source": [
        "## Importing the dataset"
      ]
    },
    {
      "cell_type": "markdown",
      "metadata": {
        "id": "DG781xKYZ3NB"
      },
      "source": [
        "Importing and reading the dataset with the help of pandas library"
      ]
    },
    {
      "cell_type": "code",
      "execution_count": 173,
      "metadata": {
        "id": "FkodcY8eZdxh"
      },
      "outputs": [],
      "source": [
        "dataset = pd.read_csv('Salary_Data.csv')"
      ]
    },
    {
      "cell_type": "markdown",
      "metadata": {
        "id": "IyAfyFCkZ4my"
      },
      "source": [
        "Reading the Salary data into the file and then assigning it to variable dataset"
      ]
    },
    {
      "cell_type": "code",
      "execution_count": 174,
      "metadata": {
        "id": "i0FBm7kZZd0I"
      },
      "outputs": [],
      "source": [
        "X = dataset.iloc[:, :-1].values\n",
        "Y = dataset.iloc[:, -1].values"
      ]
    },
    {
      "cell_type": "markdown",
      "metadata": {
        "id": "9PqUks7KaEng"
      },
      "source": [
        "1. Assigning the variable X as the values of all the rows from all columns except the last one\n",
        "2. Y variable is the dependent variable and it takes values of all rows from the last column"
      ]
    },
    {
      "cell_type": "code",
      "execution_count": 175,
      "metadata": {
        "id": "Iqz1Qdv9Zvsh"
      },
      "outputs": [],
      "source": [
        "# print(X)"
      ]
    },
    {
      "cell_type": "code",
      "execution_count": 176,
      "metadata": {
        "id": "3j0QKm-xZvzx"
      },
      "outputs": [],
      "source": [
        "# print(Y)"
      ]
    },
    {
      "cell_type": "markdown",
      "metadata": {
        "id": "AyhQaTwP9RzG"
      },
      "source": [
        "## Splitting the dataset into the Training set and Test set"
      ]
    },
    {
      "cell_type": "code",
      "execution_count": 177,
      "metadata": {
        "id": "rvZa0SQzofWY"
      },
      "outputs": [],
      "source": [
        "from sklearn.model_selection import train_test_split"
      ]
    },
    {
      "cell_type": "markdown",
      "metadata": {
        "id": "biqenR7hp5hj"
      },
      "source": [
        "Import the model selection module from sklearn library and use the train_test_split function to split the model into training and testing sets"
      ]
    },
    {
      "cell_type": "code",
      "execution_count": 178,
      "metadata": {
        "id": "s7gzUuZHptAQ"
      },
      "outputs": [],
      "source": [
        "X_train, X_test, Y_train, Y_test = train_test_split(X, Y, test_size = 0.2, random_state = 0)"
      ]
    },
    {
      "cell_type": "markdown",
      "metadata": {
        "id": "AFikKFf2p8eQ"
      },
      "source": [
        "Establish the variables for the four different sets. Specifying the size of the test size to be 20% while the seed is 0"
      ]
    },
    {
      "cell_type": "code",
      "execution_count": 179,
      "metadata": {
        "id": "lD0fmJQfqVwp"
      },
      "outputs": [],
      "source": [
        "# print(X_test)"
      ]
    },
    {
      "cell_type": "code",
      "execution_count": 180,
      "metadata": {
        "id": "tsxwqwpYqWBJ"
      },
      "outputs": [],
      "source": [
        "# print(X_train)"
      ]
    },
    {
      "cell_type": "code",
      "execution_count": 181,
      "metadata": {
        "id": "YeLvLHYxqWD6"
      },
      "outputs": [],
      "source": [
        "# print(Y_test)"
      ]
    },
    {
      "cell_type": "code",
      "execution_count": 182,
      "metadata": {
        "id": "Ob_xXuOxqWGd"
      },
      "outputs": [],
      "source": [
        "# print(Y_train)"
      ]
    },
    {
      "cell_type": "markdown",
      "metadata": {
        "id": "ZijQwFMQ9itx"
      },
      "source": [
        "## Training the Simple Linear Regression model on the Training set"
      ]
    },
    {
      "cell_type": "markdown",
      "metadata": {
        "id": "TnYy4DJxrYlh"
      },
      "source": [
        "Building a simple linear regression model requires importing the correct class.\n",
        "Simple linear regression models can be built by scratch or with libraries, in \n",
        "this case we will be using the scikit-learn library to build our model."
      ]
    },
    {
      "cell_type": "code",
      "execution_count": 183,
      "metadata": {
        "id": "Ci3abZeBrZtJ"
      },
      "outputs": [],
      "source": [
        "from sklearn.linear_model import LinearRegression"
      ]
    },
    {
      "cell_type": "markdown",
      "metadata": {
        "id": "nzFMmpUUr9fi"
      },
      "source": [
        "Use the scikit-learn library to call the LinearRegression class from the linear model module"
      ]
    },
    {
      "cell_type": "code",
      "execution_count": 184,
      "metadata": {
        "id": "eA3FQ82or8hB"
      },
      "outputs": [],
      "source": [
        "regressor = LinearRegression()"
      ]
    },
    {
      "cell_type": "markdown",
      "metadata": {
        "id": "PTQDoZnAtNk5"
      },
      "source": [
        "Assigning variable regressor as an instance object"
      ]
    },
    {
      "cell_type": "code",
      "execution_count": 185,
      "metadata": {
        "colab": {
          "base_uri": "https://localhost:8080/"
        },
        "id": "qsO1BM4HwTM4",
        "outputId": "c30d133b-49c9-4bf7-d1c0-1d90291472fe"
      },
      "outputs": [
        {
          "data": {
            "text/plain": [
              "LinearRegression()"
            ]
          },
          "execution_count": 185,
          "metadata": {},
          "output_type": "execute_result"
        }
      ],
      "source": [
        "regressor.fit(X_train, Y_train)"
      ]
    },
    {
      "cell_type": "markdown",
      "metadata": {
        "id": "gJO68Gsrt7qh"
      },
      "source": [
        "The fit() method will train the regression model and make calculations based on our training sets for the features (X_train) and our dependent variable (Y_train)"
      ]
    },
    {
      "cell_type": "markdown",
      "metadata": {
        "id": "wa2T1Lq89o5H"
      },
      "source": [
        "## Predicting the Test set results"
      ]
    },
    {
      "cell_type": "markdown",
      "metadata": {
        "id": "4BRwF-YKAUcf"
      },
      "source": [
        "Predicting the test set results by producing the observations from the test set.\n",
        "The model should be able to accurately predict the salary of the test sets, that\n",
        "we have set aside (there should be 6 of them), based on the years of experience.\n",
        "The ground truth is the actual value of the salaries from our testing sets."
      ]
    },
    {
      "cell_type": "code",
      "execution_count": 186,
      "metadata": {
        "id": "G2J6AfRjAXIn"
      },
      "outputs": [],
      "source": [
        "Y_pred = regressor.predict(X_test)"
      ]
    },
    {
      "cell_type": "markdown",
      "metadata": {
        "id": "SmkjCnx2AY5e"
      },
      "source": [
        "Using the predict() method from the LinearRegression class, we can enter the testing set of our features as an argument to create an array of predictions. We will assign this new array to variable Y_pred "
      ]
    },
    {
      "cell_type": "markdown",
      "metadata": {
        "id": "-zSoMZ-P9v8t"
      },
      "source": [
        "## Visualising the Training set results"
      ]
    },
    {
      "cell_type": "markdown",
      "metadata": {
        "id": "v5TD71sUFNJh"
      },
      "source": [
        "Visualizing the training set results with matplotlib with the pyplot module by \n",
        "creating a 2D plot with x-axis as the years of experience, and the y-axis being \n",
        "the salaries. We are creating this graph for the features training set or X_train."
      ]
    },
    {
      "cell_type": "code",
      "execution_count": 187,
      "metadata": {
        "colab": {
          "base_uri": "https://localhost:8080/",
          "height": 295
        },
        "id": "7IFMmyNOGZ73",
        "outputId": "61848382-7a4b-43bd-8021-714931cff863"
      },
      "outputs": [
        {
          "data": {
            "image/png": "[encoded data removed]",
            "text/plain": [
              "<Figure size 432x288 with 1 Axes>"
            ]
          },
          "metadata": {
            "needs_background": "light"
          },
          "output_type": "display_data"
        }
      ],
      "source": [
        "plt.scatter(X_train, Y_train, color = 'red')\n",
        "plt.plot(X_train, regressor.predict(X_train), color = 'blue')\n",
        "\n",
        "plt.title('Salary vs. Experience - Training Set')\n",
        "plt.xlabel('Years of Experience')\n",
        "plt.ylabel('Salary')\n",
        "\n",
        "plt.show()"
      ]
    },
    {
      "cell_type": "markdown",
      "metadata": {
        "id": "4tgZsA7cGlsQ"
      },
      "source": [
        "1. Use the pyplot module, being shown as plt, and use the scatter() module to create a scatter plot. The x-axis is X_train and the y-axis is Y_train. We are also setting the color of the line to be red.\n",
        "2. Use the plot method to plot the years of experience from our training set, and then uset the predict method to find the predicted salaries for the training set.\n",
        "3. Adding the title for the graph\n",
        "4. Labeling the x-axis\n",
        "5. Labeling the y-axis\n",
        "6. Displaying the graph"
      ]
    },
    {
      "cell_type": "markdown",
      "metadata": {
        "id": "EUX1Vhsv97ZT"
      },
      "source": [
        "## Visualising the Test set results"
      ]
    },
    {
      "cell_type": "markdown",
      "metadata": {
        "id": "tj9xxAfzIGSn"
      },
      "source": [
        "Visualizing the test set results with matplotlib, similar to what we did earlier.\n",
        "We will use the same labels, and axis except now we will use the X_test and \n",
        "Y_test as our coordinates. However, the line will remain the same as the one\n",
        "from the training set, so we won't change anything in plot."
      ]
    },
    {
      "cell_type": "code",
      "execution_count": 188,
      "metadata": {
        "colab": {
          "base_uri": "https://localhost:8080/",
          "height": 295
        },
        "id": "MVV9IELAIFlw",
        "outputId": "ce0c4dd1-81ec-4d21-8b57-bf02928bef5a"
      },
      "outputs": [
        {
          "data": {
            "image/png": "[encoded data removed]",
            "text/plain": [
              "<Figure size 432x288 with 1 Axes>"
            ]
          },
          "metadata": {
            "needs_background": "light"
          },
          "output_type": "display_data"
        }
      ],
      "source": [
        "plt.scatter(X_test, Y_test, color = 'red')\n",
        "plt.plot(X_train, regressor.predict(X_train), color = 'blue')\n",
        "\n",
        "plt.title('Salary vs. Experience - Test Set')\n",
        "plt.xlabel('Years of Experience')\n",
        "plt.ylabel('Salary')\n",
        "\n",
        "plt.show()"
      ]
    },
    {
      "cell_type": "markdown",
      "metadata": {
        "id": "Hz2ZOHEYJUHo"
      },
      "source": [
        "1. The cooridnates of the test sets have to be used\n",
        "2. We want the same line as our training sets so we will continue to use the same variables to make the same line."
      ]
    },
    {
      "cell_type": "markdown",
      "metadata": {
        "id": "sndlwoDJOf1B"
      },
      "source": [
        "## Making a single Prediction using the Linear Regression Model\n"
      ]
    },
    {
      "cell_type": "markdown",
      "metadata": {
        "id": "qprn95Y8SfGn"
      },
      "source": [
        "Making a single prediction with the linear regression model that we have created.\n",
        "We can accomplish this by using the predict() method as shown earlier and passing\n",
        "a value for our x-axis or feature. In our case, the feature is years of \n",
        "experience and so we can input the value 15 (must be inside a 2D array like this\n",
        "[[15]] because the predict() method only accepts 2D arrays)."
      ]
    },
    {
      "cell_type": "code",
      "execution_count": 189,
      "metadata": {
        "colab": {
          "base_uri": "https://localhost:8080/"
        },
        "id": "FB3QNz0YSioY",
        "outputId": "c44f105d-77c8-445b-e980-78c7977751d4"
      },
      "outputs": [
        {
          "name": "stdout",
          "output_type": "stream",
          "text": [
            "[166468.72605157]\n"
          ]
        }
      ],
      "source": [
        "print(regressor.predict([[15]]))"
      ]
    },
    {
      "cell_type": "markdown",
      "metadata": {
        "id": "1YuJq32KSv8Y"
      },
      "source": [
        "Instead of giving an entire array to predict the values of, we are just giving one value on the x-axis and the predict() method will find the y-value on the line, or the salary (dependent variable)."
      ]
    },
    {
      "cell_type": "markdown",
      "metadata": {
        "id": "gtApe-wuUzio"
      },
      "source": [
        "## Finding the final linear regression equation\n",
        "\n"
      ]
    },
    {
      "cell_type": "markdown",
      "metadata": {
        "id": "OilJHlIhU54P"
      },
      "source": [
        "Finding the final linear regression equation is possible by directly getting the\n",
        "values of the coefficients. We can get the values of the y-intercept (b0) and the\n",
        "slope (b1) with the .intercept_ and the .coef_ method."
      ]
    },
    {
      "cell_type": "code",
      "execution_count": 190,
      "metadata": {
        "id": "36Js5fI5U5GY"
      },
      "outputs": [],
      "source": [
        "coefficient = regressor.coef_ \n",
        "intercept = regressor.intercept_"
      ]
    },
    {
      "cell_type": "markdown",
      "metadata": {
        "id": "LLd77kO_U-7n"
      },
      "source": [
        "1. Gets the coefficient (m) or the slope in the equation: y = mx + b \n",
        "2. Gets the y-intercept (b)"
      ]
    },
    {
      "cell_type": "code",
      "execution_count": 191,
      "metadata": {
        "colab": {
          "base_uri": "https://localhost:8080/"
        },
        "id": "vKtJ45KdVETn",
        "outputId": "d476d452-0522-404d-e85b-f6eb4eb05d49"
      },
      "outputs": [
        {
          "name": "stdout",
          "output_type": "stream",
          "text": [
            "The equation of the line is: y = [9312.57512673]x + 26780.09915062818\n"
          ]
        }
      ],
      "source": [
        "print(f'The equation of the line is: y = {coefficient}x + {intercept}')"
      ]
    },
    {
      "cell_type": "markdown",
      "metadata": {
        "id": "7gEqmg-LVEbo"
      },
      "source": [
        "The final equation!"
      ]
    }
  ],
  "metadata": {
    "colab": {
      "provenance": []
    },
    "kernelspec": {
      "display_name": "Python 3.11.1 64-bit",
      "language": "python",
      "name": "python3"
    },
    "language_info": {
      "name": "python",
      "version": "3.11.1"
    },
    "vscode": {
      "interpreter": {
        "hash": "c261aea317cc0286b3b3261fbba9abdec21eaa57589985bb7a274bf54d6cc0a7"
      }
    }
  },
  "nbformat": 4,
  "nbformat_minor": 0
}
